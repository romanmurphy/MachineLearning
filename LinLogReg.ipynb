{
 "cells": [
  {
   "attachments": {},
   "cell_type": "markdown",
   "metadata": {},
   "source": [
    "## Linear and Logistic Regression \n",
    "\n",
    "This notebook will try to do 2 things \n",
    "\n",
    "* Explain the logic and maths behind linear and logistic regression \n",
    "* Show the implementation of the two methods upon real data \n",
    "\n",
    "### Linear Regression \n",
    "\n",
    "Simple linear regression is finding a straight line which minimizes the sum of squared errors between the predicted and actual values of the dependent variable. \n",
    "\n",
    "For a simple data set where we have one predictor(independent variable) and one prediction(dependent variable), we would get an equation like so:\n",
    "\n",
    "$ y = mx + c  $\n",
    "\n",
    "This can get more complicated with multiple predictors making equations that would look like this:\n",
    "\n",
    "$ y = ax + bz + dv + c $\n",
    "\n",
    "#### Performing Linear Regression on real data\n",
    "\n",
    "We will look at this data set from kaggle: \n",
    "\n",
    "https://www.kaggle.com/datasets/girardi69/marathon-time-predictions?resource=download\n",
    "\n",
    "This gives lots of data about marathon runners and we will use it to predict their time\n",
    "\n",
    "Lets take a look at the data "
   ]
  },
  {
   "cell_type": "code",
   "execution_count": null,
   "metadata": {},
   "outputs": [],
   "source": [
    "import pandas as pd \n",
    "import numpy as np \n",
    "\n",
    "\n",
    "pd.read_csv(\"MarathonData.csv\")"
   ]
  }
 ],
 "metadata": {
  "language_info": {
   "name": "python"
  },
  "orig_nbformat": 4
 },
 "nbformat": 4,
 "nbformat_minor": 2
}
